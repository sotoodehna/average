{
  "nbformat": 4,
  "nbformat_minor": 0,
  "metadata": {
    "colab": {
      "name": "Untitled2.ipynb",
      "provenance": []
    },
    "kernelspec": {
      "name": "python3",
      "display_name": "Python 3"
    },
    "language_info": {
      "name": "python"
    }
  },
  "cells": [
    {
      "cell_type": "code",
      "metadata": {
        "id": "tFeJ1jeS8fug"
      },
      "source": [
        "import csv\n",
        "#every row as element of list\n",
        "with open('/content/basal1.csv', newline='') as csvfile:\n",
        "    reader = csv.reader(csvfile, delimiter=',')\n",
        "    matrix = list(reader)\n",
        "\n",
        "w= []\n",
        "counter = 0\n",
        "\n",
        "for x in range(1, len(matrix[0])): # first row (header)\n",
        "    for y in range(1, len(matrix)): #every row as list\n",
        "        if matrix[0][x] == matrix[y][0]: #index and heade is equal \n",
        "            counter += float(matrix[x][y])\n",
        "            w.append(float(matrix[x][y]))\n",
        "\n",
        "w=list(filter(lambda num: num != 0, w))# remove 0 elements\n",
        "average= counter/len(w) #calculate average\n",
        "print(counter)\n",
        "print(w)\n",
        "print(average)\n"
      ],
      "execution_count": null,
      "outputs": []
    }
  ]
}